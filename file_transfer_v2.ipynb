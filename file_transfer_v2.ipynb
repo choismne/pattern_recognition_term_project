{
 "cells": [
  {
   "cell_type": "code",
   "execution_count": 93,
   "id": "5d798ad9",
   "metadata": {},
   "outputs": [],
   "source": [
    "import shutil\n",
    "import os\n",
    "import glob\n",
    "import random"
   ]
  },
  {
   "cell_type": "code",
   "execution_count": 94,
   "id": "8d618a0e",
   "metadata": {},
   "outputs": [],
   "source": [
    "#데이터들이 담긴 디렉토리 지정\n",
    "rootpath = \"/Users/choismn/Desktop/coding/pattern_recognition_tp/New_Sample 2\""
   ]
  },
  {
   "cell_type": "code",
   "execution_count": 95,
   "id": "6129be6a",
   "metadata": {},
   "outputs": [],
   "source": [
    "class File_transfer(file_processing):\n",
    "    def __init__(self, rootpath):\n",
    "        self.rootpath = rootpath\n",
    "        \n",
    "        #디렉토리 내에 필요한 폴더 생성\n",
    "        new_folder_paths = [self.rootpath + \"/train\", self.rootpath + \"/train/images\", self.rootpath + \"/train/labels\",\n",
    "                   self.rootpath + \"/valid\", self.rootpath + \"/valid/images\", self.rootpath + \"/valid/labels\"]\n",
    "\n",
    "        # 폴더를 만들기 전에 해당 경로가 존재하는지 확인\n",
    "        for new_folder_path in new_folder_paths:\n",
    "            if not os.path.exists(new_folder_path):\n",
    "                try:\n",
    "                    # 폴더 생성\n",
    "                    os.makedirs(new_folder_path)\n",
    "                    print(f\"폴더 {new_folder_path}가 생성되었습니다.\")\n",
    "                except OSError as e:\n",
    "                    print(f\"폴더 {new_folder_path}를 생성하는 중 오류가 발생했습니다: {e}\")\n",
    "            else:\n",
    "                print(f\"폴더 {new_folder_path}는 이미 존재합니다.\")\n",
    "   \n",
    "    #디렉토리 옮기는 함수, 디렉토리 안에있는거 싹다 train폴더로 옮기고, 원래있던거 지움 / images, labels 둘다\n",
    "    def move(self):\n",
    "        for mode in ['jpg', 'txt']:\n",
    "            if mode == 'jpg':\n",
    "                path = self.rootpath + '/원천데이터'\n",
    "                target_directory = self.rootpath + '/train/images'\n",
    "\n",
    "            elif mode == 'txt':\n",
    "                path = self.rootpath + '/라벨링데이터'\n",
    "                target_directory = self.rootpath + '/train/labels'\n",
    "\n",
    "            file_paths = []\n",
    "            files = glob.glob(path + f\"/**/*.{mode}\", recursive=True)\n",
    "            file_paths.extend(files)\n",
    "\n",
    "            for file_path in file_paths:\n",
    "                file_name = os.path.basename(file_path)\n",
    "                target_path = os.path.join(target_directory, file_name)\n",
    "                shutil.move(file_path, target_path)\n",
    "\n",
    "            print(f\"{mode} 파일이 이동되었습니다.\")\n",
    "\n",
    "            #필요없는 디렉토리 삭제\n",
    "            try:\n",
    "                shutil.rmtree(path)\n",
    "                print(f\"디렉토리 {path}가 삭제되었습니다.\")\n",
    "            except OSError as e:\n",
    "                print(f\"디렉토리 {path}를 삭제하는 중 오류가 발생했습니다: {e}\")\n",
    "    \n",
    "    #매개변수로 전달받은 ratio만큼 train, validation split. ratio는 validation size\n",
    "    def train_val_split(self, ratio):\n",
    "        train_path = self.rootpath + \"/train/images\"\n",
    "        images_list = os.listdir(train_path)\n",
    "        target_directory = self.rootpath + \"/valid/images\"\n",
    "        random_elements = random.sample(images_list, int(len(images_list) * ratio))\n",
    "\n",
    "        for element in random_elements:\n",
    "            #images 분류\n",
    "            file_path = os.path.join(train_path, element)\n",
    "            target_path = os.path.join(target_directory, element)\n",
    "            shutil.move(file_path, target_path)\n",
    "            \n",
    "            #labels 분류\n",
    "            label_file_path = file_path.replace(\"images\", \"labels\").replace(\".jpg\", \".txt\")\n",
    "            label_target_path = target_path.replace(\"images\", \"labels\").replace(\".jpg\", \".txt\")\n",
    "            shutil.move(label_file_path, label_target_path)\n",
    "            \n",
    "        print(\"train, validation 분류 완료하였습니다.\")"
   ]
  },
  {
   "cell_type": "code",
   "execution_count": 96,
   "id": "e6693cee",
   "metadata": {
    "scrolled": false
   },
   "outputs": [
    {
     "name": "stdout",
     "output_type": "stream",
     "text": [
      "폴더 /Users/choismn/Desktop/coding/pattern_recognition_tp/New_Sample 2/train가 생성되었습니다.\n",
      "폴더 /Users/choismn/Desktop/coding/pattern_recognition_tp/New_Sample 2/train/images가 생성되었습니다.\n",
      "폴더 /Users/choismn/Desktop/coding/pattern_recognition_tp/New_Sample 2/train/labels가 생성되었습니다.\n",
      "폴더 /Users/choismn/Desktop/coding/pattern_recognition_tp/New_Sample 2/valid가 생성되었습니다.\n",
      "폴더 /Users/choismn/Desktop/coding/pattern_recognition_tp/New_Sample 2/valid/images가 생성되었습니다.\n",
      "폴더 /Users/choismn/Desktop/coding/pattern_recognition_tp/New_Sample 2/valid/labels가 생성되었습니다.\n"
     ]
    }
   ],
   "source": [
    "transfer = File_transfer(rootpath = rootpath)"
   ]
  },
  {
   "cell_type": "code",
   "execution_count": 97,
   "id": "63ddadab",
   "metadata": {},
   "outputs": [
    {
     "name": "stdout",
     "output_type": "stream",
     "text": [
      "jpg 파일이 이동되었습니다.\n",
      "디렉토리 /Users/choismn/Desktop/coding/pattern_recognition_tp/New_Sample 2/원천데이터가 삭제되었습니다.\n",
      "txt 파일이 이동되었습니다.\n",
      "디렉토리 /Users/choismn/Desktop/coding/pattern_recognition_tp/New_Sample 2/라벨링데이터가 삭제되었습니다.\n"
     ]
    }
   ],
   "source": [
    "transfer.move()"
   ]
  },
  {
   "cell_type": "code",
   "execution_count": 98,
   "id": "7533844e",
   "metadata": {
    "scrolled": true
   },
   "outputs": [
    {
     "name": "stdout",
     "output_type": "stream",
     "text": [
      "train, validation 분류 완료하였습니다.\n"
     ]
    }
   ],
   "source": [
    "transfer.train_val_split(0.1)"
   ]
  }
 ],
 "metadata": {
  "kernelspec": {
   "display_name": "Python 3 (ipykernel)",
   "language": "python",
   "name": "python3"
  },
  "language_info": {
   "codemirror_mode": {
    "name": "ipython",
    "version": 3
   },
   "file_extension": ".py",
   "mimetype": "text/x-python",
   "name": "python",
   "nbconvert_exporter": "python",
   "pygments_lexer": "ipython3",
   "version": "3.11.4"
  }
 },
 "nbformat": 4,
 "nbformat_minor": 5
}
